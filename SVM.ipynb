{
  "nbformat": 4,
  "nbformat_minor": 0,
  "metadata": {
    "colab": {
      "name": "SVM.ipynb",
      "provenance": [],
      "private_outputs": true,
      "collapsed_sections": []
    },
    "kernelspec": {
      "name": "python3",
      "display_name": "Python 3"
    }
  },
  "cells": [
    {
      "cell_type": "code",
      "metadata": {
        "id": "KCMnNLuoe8UZ",
        "colab_type": "code",
        "colab": {}
      },
      "source": [
        "import numpy as np\n",
        "import matplotlib.pyplot as plt\n",
        "from sklearn import svm, preprocessing\n",
        "from sklearn.model_selection import train_test_split, GridSearchCV\n",
        "import pandas as pd\n",
        "import sklearn.metrics as metrics\n",
        "import os\n",
        "from datetime import datetime\n",
        "import time\n",
        "import os\n",
        "import matplotlib.pyplot as plt\n",
        "from matplotlib.ticker import FuncFormatter"
      ],
      "execution_count": 0,
      "outputs": []
    },
    {
      "cell_type": "markdown",
      "metadata": {
        "id": "4-ZntFOzhQo4",
        "colab_type": "text"
      },
      "source": [
        "Splitting the dataset into features and labels for machine learning and data required for backtesting."
      ]
    },
    {
      "cell_type": "code",
      "metadata": {
        "id": "SlJy0CVdfSYe",
        "colab_type": "code",
        "colab": {}
      },
      "source": [
        "def split_dataset(dataset):\n",
        "  \n",
        "  dataset = dataset.reindex(np.random.permutation(dataset.index))\n",
        "  \n",
        "  Z = np.array(dataset[['Stock Percent Difference', 'Index Percent Difference']])\n",
        "  Y = dataset['Label'].values\n",
        "\n",
        "\n",
        "  columns_to_remove = ['Stock Price', \n",
        "                          'Index Price', \n",
        "                          'Stock Percent Difference',\n",
        "                          'Index Percent Difference',\n",
        "                          'Ticker',\n",
        "                          'Report Date',\n",
        "                          'Fiscal Year',\n",
        "                          'Publish Date',\n",
        "                          'Fiscal Period',\n",
        "                          'Currency']\n",
        "  for column in columns_to_remove:\n",
        "    try:\n",
        "      dataset.drop(columns = column, inplace=True)\n",
        "    except:\n",
        "      print(\"There is no \", column, \" in this dataset.\")\n",
        "  dataset = dataset.fillna(0)\n",
        "  dataset.drop(columns = 'Label', inplace= True)\n",
        "  \n",
        "  X = dataset.values\n",
        "  scaler = preprocessing.MinMaxScaler()\n",
        "  X = scaler.fit_transform(X)\n",
        "\n",
        "  return X,Y,Z\n",
        "  "
      ],
      "execution_count": 0,
      "outputs": []
    },
    {
      "cell_type": "markdown",
      "metadata": {
        "id": "1-tdk_-qhyv-",
        "colab_type": "text"
      },
      "source": [
        "Creating folders where the log files from experiments are stored dynamuically."
      ]
    },
    {
      "cell_type": "code",
      "metadata": {
        "id": "19YVuzBB25na",
        "colab_type": "code",
        "colab": {}
      },
      "source": [
        "def path_to_log():\n",
        "  now = datetime.now()\n",
        "  current_time = now.strftime(\"%d-%m-%Y %H:%M:%S\")\n",
        "  str_path = '/content/drive/My Drive/Logs SVM/%s' %current_time\n",
        "  os.makedirs(str_path)\n",
        "  return str_path\n",
        "\n",
        "def spec_path(kernel, gen_path, gamma):\n",
        "  spec_path = '/%s/%s' % (kernel, gamma)\n",
        "  os.makedirs(gen_path + spec_path)\n",
        "  return gen_path + spec_path"
      ],
      "execution_count": 0,
      "outputs": []
    },
    {
      "cell_type": "markdown",
      "metadata": {
        "id": "yG883OwOnQaq",
        "colab_type": "text"
      },
      "source": [
        "Loading the data and splitting it into training and testing datasets."
      ]
    },
    {
      "cell_type": "code",
      "metadata": {
        "id": "8k_t7TQhvie1",
        "colab_type": "code",
        "colab": {}
      },
      "source": [
        "big_data = pd.read_csv('/content/drive/My Drive/Data Sets/labelled_fundamental_data.csv')"
      ],
      "execution_count": 0,
      "outputs": []
    },
    {
      "cell_type": "code",
      "metadata": {
        "id": "UpmFeUn4vNDt",
        "colab_type": "code",
        "colab": {}
      },
      "source": [
        "features, labels, p_change = split_dataset(big_data)"
      ],
      "execution_count": 0,
      "outputs": []
    },
    {
      "cell_type": "code",
      "metadata": {
        "id": "KO-u9mvgv7ad",
        "colab_type": "code",
        "colab": {}
      },
      "source": [
        "features_train, features_test, labels_train, labels_test = train_test_split(features, labels, test_size=0.25, shuffle = False, random_state= 42)\n",
        "p_change = p_change[len(labels_test):]"
      ],
      "execution_count": 0,
      "outputs": []
    },
    {
      "cell_type": "code",
      "metadata": {
        "id": "S_mebARyyfkj",
        "colab_type": "code",
        "colab": {}
      },
      "source": [
        "print('Features train',len(features_train))\n",
        "print('Features test',len(features_test))\n",
        "print('Labels train',len(labels_train))\n",
        "print('Labels test',len(labels_test))"
      ],
      "execution_count": 0,
      "outputs": []
    },
    {
      "cell_type": "markdown",
      "metadata": {
        "id": "B_LzXuCanVgZ",
        "colab_type": "text"
      },
      "source": [
        "Defining the backtesting method."
      ]
    },
    {
      "cell_type": "code",
      "metadata": {
        "id": "wG88Ha2ETQRE",
        "colab_type": "code",
        "colab": {}
      },
      "source": [
        "def backtest(predicted_labels, labels_test, p_change, path):\n",
        "  count_correct = 0\n",
        "  invest_amount = 100\n",
        "  total_trades = 0\n",
        "  if_mark = 0\n",
        "  if_strat = 0\n",
        "  string = \"\\n\"\n",
        "  \n",
        "  for pred in range(len(predicted_labels)):\n",
        "    if predicted_labels[pred] == 1:\n",
        "      strat = invest_amount + (invest_amount * (p_change[pred][0]/100))\n",
        "      mark = invest_amount + (invest_amount * (p_change[pred][1]/100))\n",
        "      total_trades += 1\n",
        "      if_mark += mark\n",
        "      if_strat += strat\n",
        "\n",
        "  in_bank = total_trades * invest_amount\n",
        "  compare_p = ((if_strat-if_mark)/if_mark)*100\n",
        "  compare = if_strat-in_bank\n",
        "  avg_market = ((if_mark-in_bank)/in_bank)*100\n",
        "  avg_strat = ((if_strat-in_bank)/in_bank)*100\n",
        "\n",
        "\n",
        "  string += \"Total trades: %s \\n\" %total_trades\n",
        "  string += \"Invest in market: %s \\n\" %round(if_mark)\n",
        "  string += \"Invest with predictions: %s \\n\" %round(if_strat)\n",
        "  string += \"Savings: %s \\n\" %in_bank\n",
        "\n",
        " \n",
        "  string += \"Difference strategy-savings total: %s \\n\" %round(compare)\n",
        "  string += \"Difference strategy-savings percent: %s \\n\" %round(compare_p)\n",
        "\n",
        "\n",
        "  \n",
        "  string += \"Average Market Return: %s \\n\" %round(avg_market)\n",
        "  string += \"Average Strategy return: %s \\n\" %round(avg_strat)\n",
        "\n",
        "\n",
        "  \n",
        "  x = np.arange(3)\n",
        "  money = [in_bank, if_mark, if_strat]\n",
        "\n",
        "\n",
        "  def millions(x, pos):\n",
        "      'The two args are the value and tick position'\n",
        "      return '$%1.1fM' % (x * 1e-6)\n",
        "\n",
        "\n",
        "  formatter = FuncFormatter(millions)\n",
        "\n",
        "  fig, ax = plt.subplots()\n",
        "  ax.yaxis.set_major_formatter(formatter)\n",
        "  plt.bar(x, money)\n",
        "  plt.xticks(x, ('Savings', 'Market ETF (SPY)', 'Strategy'))\n",
        "  plt.savefig(\"%s/backtest.png\" %path)\n",
        "  plt.show()\n",
        "\n",
        "  return string"
      ],
      "execution_count": 0,
      "outputs": []
    },
    {
      "cell_type": "markdown",
      "metadata": {
        "id": "8c3kqJx3ncP5",
        "colab_type": "text"
      },
      "source": [
        "Running experiments with different hyper parameters for SVM and logging the results."
      ]
    },
    {
      "cell_type": "code",
      "metadata": {
        "id": "Bf5SZpQX59MV",
        "colab_type": "code",
        "colab": {}
      },
      "source": [
        "path_to_save = path_to_log()\n",
        "\n",
        "kernels = ['rbf']\n",
        "gammas = [1000]\n",
        "Cs = [175]\n",
        "\n",
        "for kernel in kernels:\n",
        "  for gamma in gammas:\n",
        "    spec_path_to_save = spec_path(kernel, path_to_save, gamma)\n",
        "    for C in Cs:\n",
        "\n",
        "      start_time = time.time()\n",
        "      \n",
        "      \n",
        "      file_path = '%s/%s_%s_%s_results.txt' %(spec_path_to_save, kernel, gamma, C)\n",
        "      f = open(file_path, 'w+')\n",
        "      \n",
        "      string = 'Tuning parameters for Kernel: %s  Gammma: %s C: %s\\n' %(kernel, gamma, C)\n",
        "      \n",
        "      print(\"Training started.\")\n",
        "\n",
        "      model = svm.SVC(kernel = kernel, C = C, gamma = gamma)\n",
        "      model.fit(features_train, labels_train)\n",
        "      \n",
        "      predictions = model.predict(features_test)\n",
        "      print('Training and prediction complete.')\n",
        "\n",
        "      string += str(\"Accuracy: \" + str(metrics.accuracy_score(labels_test, predictions))) + '\\n'\n",
        "      \n",
        "      string += str(\"Classification report: \\n\" + str(metrics.classification_report(labels_test, predictions))) + '\\n'\n",
        "      \n",
        "      string += str(\"Confusion matrix: \\n\" + str(metrics.confusion_matrix(labels_test, predictions))) + '\\n'\n",
        "      \n",
        "      end_time = time.time() - start_time\n",
        "\n",
        "      seconds = 'Time taken (seconds): %.2f \\n' %end_time\n",
        "      \n",
        "      print(seconds)\n",
        "      \n",
        "      string += seconds\n",
        "      \n",
        "      string += 'Time taken (minutes): %.2f' %(end_time/60)\n",
        "\n",
        "      string += backtest(predictions, labels_test, p_change, spec_path_to_save)\n",
        "\n",
        "      svc_roc = metrics.plot_roc_curve(model, features_test, labels_test)\n",
        "      plt.savefig(\"%s/roc.png\" %spec_path_to_save)\n",
        "      plt.show()\n",
        "\n",
        "      svc_conf = metrics.plot_confusion_matrix(model, features_test, labels_test)\n",
        "      plt.savefig(\"%s/confusion.png\" %spec_path_to_save)\n",
        "      plt.show()\n",
        "\n",
        "      f.write(str(string + '\\n'))\n",
        "\n",
        "      f.close()"
      ],
      "execution_count": 0,
      "outputs": []
    },
    {
      "cell_type": "markdown",
      "metadata": {
        "id": "K84Tsok9nmVp",
        "colab_type": "text"
      },
      "source": [
        "Train a single algorithm and display results from algorithm predictions."
      ]
    },
    {
      "cell_type": "code",
      "metadata": {
        "id": "Uq41iNTG7h8v",
        "colab_type": "code",
        "colab": {}
      },
      "source": [
        "import time\n",
        "start_time = time.time()\n",
        "\n",
        "SVM = svm.SVC(kernel='rbf', C = 175, gamma = 1000) \n",
        "print(\"SVM initalised\")\n",
        "\n",
        "SVM.fit(features_train, labels_train)\n",
        "print(\"Training took: \", (time.time()-start_time), \"seconds\")\n",
        "\n",
        "predicted_labels = SVM.predict(features_test)\n",
        "\n",
        "accuracy = metrics.accuracy_score(labels_test, predicted_labels)\n",
        "\n",
        "print(\"Accuracy: \", accuracy)\n",
        "print(metrics.classification_report(labels_test, predicted_labels))\n",
        "print(metrics.confusion_matrix(labels_test, predicted_labels))\n",
        "\n",
        "svc_disp = metrics.plot_roc_curve(SVM, features_test, labels_test)\n",
        "plt.show()\n",
        "svc_disp = metrics.plot_confusion_matrix(SVM, features_test, labels_test)\n",
        "plt.show()\n",
        "print(backtest(predicted_labels, labels_test, p_change, \"/content/\"))"
      ],
      "execution_count": 0,
      "outputs": []
    },
    {
      "cell_type": "markdown",
      "metadata": {
        "id": "oZ1_xU4Inwbp",
        "colab_type": "text"
      },
      "source": [
        "Save the trained model."
      ]
    },
    {
      "cell_type": "code",
      "metadata": {
        "id": "xKFdimOCsYwW",
        "colab_type": "code",
        "colab": {}
      },
      "source": [
        "import joblib\n",
        "joblib.dump(SVM, '/content/logs/SVM_classifier_C_gamma_175.sav')"
      ],
      "execution_count": 0,
      "outputs": []
    },
    {
      "cell_type": "markdown",
      "metadata": {
        "id": "vW0FMumSn08h",
        "colab_type": "text"
      },
      "source": [
        "Extract data from log files and use it for plotting graphs."
      ]
    },
    {
      "cell_type": "code",
      "metadata": {
        "id": "wD95je-d1Es3",
        "colab_type": "code",
        "colab": {}
      },
      "source": [
        "gammas = []\n",
        "accuracys = []"
      ],
      "execution_count": 0,
      "outputs": []
    },
    {
      "cell_type": "code",
      "metadata": {
        "id": "EynbXsstsUm2",
        "colab_type": "code",
        "colab": {}
      },
      "source": [
        "with open('/content/drive/My Drive/Logs SVM/03-05-2020 13:35:49/rbf/rbf_1000_175_results.txt', 'r') as file:\n",
        "    data = file.readlines()\n",
        "    #print(data)\n",
        "    dat_1 = data[0]\n",
        "    gam = dat_1.find('Gammma: ')\n",
        "    gam += len(\"Gamma: \")\n",
        "    c = dat_1.find(\" C:\")\n",
        "    gam = float(dat_1[gam:c])\n",
        "    c += len(\" C:\")\n",
        "    n_line = dat_1.find('\\n')\n",
        "    c = float(dat_1[c:n_line])\n",
        "    gammas.append(gam)\n",
        "    \n",
        "    dat_2 = data[1]\n",
        "    acc = dat_2.find(\"Accuracy: \")\n",
        "    acc += len(\"Accuracy: \")\n",
        "    n_line = dat_2.find(\"\\n\")\n",
        "    acc = float(dat_2[acc:n_line])\n",
        "    accuracys.append(acc)\n",
        "    print(gam, c, acc)"
      ],
      "execution_count": 0,
      "outputs": []
    },
    {
      "cell_type": "code",
      "metadata": {
        "id": "Hv96Xezb5BBo",
        "colab_type": "code",
        "colab": {}
      },
      "source": [
        "len(gammas)"
      ],
      "execution_count": 0,
      "outputs": []
    },
    {
      "cell_type": "code",
      "metadata": {
        "id": "EPDdEaC1g6r-",
        "colab_type": "code",
        "colab": {}
      },
      "source": [
        "# Create the figure and axes objects\n",
        "fig, ax = plt.subplots(1, figsize=(10, 6))\n",
        "fig.suptitle('Accuracy increase based on gamma')\n",
        "\n",
        "# Plot the data\n",
        "ax.plot(gammas,accuracys)\n",
        "\n",
        "# Show the grid lines as dark grey lines\n",
        "plt.grid(b=True, which='major', color='#666666', linestyle='-')\n",
        "plt.xlabel('Gamma Value')\n",
        "plt.ylabel('Accuracy %')\n",
        "plt.savefig('accuracies.png')\n",
        "plt.show()\n",
        "#plt.axis([400,900, 70, 76])"
      ],
      "execution_count": 0,
      "outputs": []
    },
    {
      "cell_type": "code",
      "metadata": {
        "id": "m3aavhuFrFMa",
        "colab_type": "code",
        "colab": {}
      },
      "source": [
        "plt.savefig(\"accuracies.png\")"
      ],
      "execution_count": 0,
      "outputs": []
    }
  ]
}